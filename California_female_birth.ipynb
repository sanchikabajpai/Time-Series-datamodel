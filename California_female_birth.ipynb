{
  "nbformat": 4,
  "nbformat_minor": 0,
  "metadata": {
    "colab": {
      "name": "California female birth.ipynb",
      "provenance": []
    },
    "kernelspec": {
      "name": "python3",
      "display_name": "Python 3"
    },
    "language_info": {
      "name": "python"
    }
  },
  "cells": [
    {
      "cell_type": "code",
      "metadata": {
        "colab": {
          "base_uri": "https://localhost:8080/"
        },
        "id": "iOKdT0yFMpi3",
        "outputId": "47c7beb0-b8a3-4444-9a6a-f58a286593c9"
      },
      "source": [
        "from google.colab import drive\n",
        "drive.mount('/content/drive/')"
      ],
      "execution_count": 1,
      "outputs": [
        {
          "output_type": "stream",
          "text": [
            "Mounted at /content/drive/\n"
          ],
          "name": "stdout"
        }
      ]
    },
    {
      "cell_type": "code",
      "metadata": {
        "id": "C413F9-JNnPl"
      },
      "source": [
        "import numpy as np\n",
        "import pandas as pd\n",
        "import matplotlib.pyplot as plt\n",
        "%matplotlib inline"
      ],
      "execution_count": 2,
      "outputs": []
    },
    {
      "cell_type": "code",
      "metadata": {
        "id": "wEoa3Y3PN4-y"
      },
      "source": [
        "f_birth = pd.read_csv(\"/content/drive/MyDrive/Colab Notebooks/Time Series Project /daily-total-female-births-CA_timeseries.csv\",index_col = [0], parse_dates = [0])"
      ],
      "execution_count": 13,
      "outputs": []
    },
    {
      "cell_type": "code",
      "metadata": {
        "id": "mgspqacLPouW",
        "colab": {
          "base_uri": "https://localhost:8080/",
          "height": 235
        },
        "outputId": "c8a02446-d64d-4810-c712-6a003ae69a8f"
      },
      "source": [
        "f_birth.head()"
      ],
      "execution_count": 14,
      "outputs": [
        {
          "output_type": "execute_result",
          "data": {
            "text/html": [
              "<div>\n",
              "<style scoped>\n",
              "    .dataframe tbody tr th:only-of-type {\n",
              "        vertical-align: middle;\n",
              "    }\n",
              "\n",
              "    .dataframe tbody tr th {\n",
              "        vertical-align: top;\n",
              "    }\n",
              "\n",
              "    .dataframe thead th {\n",
              "        text-align: right;\n",
              "    }\n",
              "</style>\n",
              "<table border=\"1\" class=\"dataframe\">\n",
              "  <thead>\n",
              "    <tr style=\"text-align: right;\">\n",
              "      <th></th>\n",
              "      <th>births</th>\n",
              "    </tr>\n",
              "    <tr>\n",
              "      <th>date</th>\n",
              "      <th></th>\n",
              "    </tr>\n",
              "  </thead>\n",
              "  <tbody>\n",
              "    <tr>\n",
              "      <th>1959-01-01</th>\n",
              "      <td>35</td>\n",
              "    </tr>\n",
              "    <tr>\n",
              "      <th>1959-01-02</th>\n",
              "      <td>32</td>\n",
              "    </tr>\n",
              "    <tr>\n",
              "      <th>1959-01-03</th>\n",
              "      <td>30</td>\n",
              "    </tr>\n",
              "    <tr>\n",
              "      <th>1959-01-04</th>\n",
              "      <td>31</td>\n",
              "    </tr>\n",
              "    <tr>\n",
              "      <th>1959-01-05</th>\n",
              "      <td>44</td>\n",
              "    </tr>\n",
              "  </tbody>\n",
              "</table>\n",
              "</div>"
            ],
            "text/plain": [
              "            births\n",
              "date              \n",
              "1959-01-01      35\n",
              "1959-01-02      32\n",
              "1959-01-03      30\n",
              "1959-01-04      31\n",
              "1959-01-05      44"
            ]
          },
          "metadata": {
            "tags": []
          },
          "execution_count": 14
        }
      ]
    },
    {
      "cell_type": "code",
      "metadata": {
        "colab": {
          "base_uri": "https://localhost:8080/"
        },
        "id": "wfTIebyK903Q",
        "outputId": "00c7ab88-9e90-4589-f471-ebb848a9e1b7"
      },
      "source": [
        "type(f_birth)"
      ],
      "execution_count": 15,
      "outputs": [
        {
          "output_type": "execute_result",
          "data": {
            "text/plain": [
              "pandas.core.frame.DataFrame"
            ]
          },
          "metadata": {
            "tags": []
          },
          "execution_count": 15
        }
      ]
    },
    {
      "cell_type": "code",
      "metadata": {
        "id": "SbbvWBKf95rs"
      },
      "source": [
        "series_value = f_birth.values"
      ],
      "execution_count": 16,
      "outputs": []
    },
    {
      "cell_type": "code",
      "metadata": {
        "colab": {
          "base_uri": "https://localhost:8080/"
        },
        "id": "DehVIY8L-C0I",
        "outputId": "1e265147-273f-47b5-a203-7e0f9ff9385b"
      },
      "source": [
        "series_value"
      ],
      "execution_count": 17,
      "outputs": [
        {
          "output_type": "execute_result",
          "data": {
            "text/plain": [
              "array([[35],\n",
              "       [32],\n",
              "       [30],\n",
              "       [31],\n",
              "       [44],\n",
              "       [29],\n",
              "       [45],\n",
              "       [43],\n",
              "       [38],\n",
              "       [27],\n",
              "       [38],\n",
              "       [33],\n",
              "       [55],\n",
              "       [47],\n",
              "       [45],\n",
              "       [37],\n",
              "       [50],\n",
              "       [43],\n",
              "       [41],\n",
              "       [52],\n",
              "       [34],\n",
              "       [53],\n",
              "       [39],\n",
              "       [32],\n",
              "       [37],\n",
              "       [43],\n",
              "       [39],\n",
              "       [35],\n",
              "       [44],\n",
              "       [38],\n",
              "       [24],\n",
              "       [23],\n",
              "       [31],\n",
              "       [44],\n",
              "       [38],\n",
              "       [50],\n",
              "       [38],\n",
              "       [51],\n",
              "       [31],\n",
              "       [31],\n",
              "       [51],\n",
              "       [36],\n",
              "       [45],\n",
              "       [51],\n",
              "       [34],\n",
              "       [52],\n",
              "       [47],\n",
              "       [45],\n",
              "       [46],\n",
              "       [39],\n",
              "       [48],\n",
              "       [37],\n",
              "       [35],\n",
              "       [52],\n",
              "       [42],\n",
              "       [45],\n",
              "       [39],\n",
              "       [37],\n",
              "       [30],\n",
              "       [35],\n",
              "       [28],\n",
              "       [45],\n",
              "       [34],\n",
              "       [36],\n",
              "       [50],\n",
              "       [44],\n",
              "       [39],\n",
              "       [32],\n",
              "       [39],\n",
              "       [45],\n",
              "       [43],\n",
              "       [39],\n",
              "       [31],\n",
              "       [27],\n",
              "       [30],\n",
              "       [42],\n",
              "       [46],\n",
              "       [41],\n",
              "       [36],\n",
              "       [45],\n",
              "       [46],\n",
              "       [43],\n",
              "       [38],\n",
              "       [34],\n",
              "       [35],\n",
              "       [56],\n",
              "       [36],\n",
              "       [32],\n",
              "       [50],\n",
              "       [41],\n",
              "       [39],\n",
              "       [41],\n",
              "       [47],\n",
              "       [34],\n",
              "       [36],\n",
              "       [33],\n",
              "       [35],\n",
              "       [38],\n",
              "       [38],\n",
              "       [34],\n",
              "       [53],\n",
              "       [34],\n",
              "       [34],\n",
              "       [38],\n",
              "       [35],\n",
              "       [32],\n",
              "       [42],\n",
              "       [34],\n",
              "       [46],\n",
              "       [30],\n",
              "       [46],\n",
              "       [45],\n",
              "       [54],\n",
              "       [34],\n",
              "       [37],\n",
              "       [35],\n",
              "       [40],\n",
              "       [42],\n",
              "       [58],\n",
              "       [51],\n",
              "       [32],\n",
              "       [35],\n",
              "       [38],\n",
              "       [33],\n",
              "       [39],\n",
              "       [47],\n",
              "       [38],\n",
              "       [52],\n",
              "       [30],\n",
              "       [34],\n",
              "       [40],\n",
              "       [35],\n",
              "       [42],\n",
              "       [41],\n",
              "       [42],\n",
              "       [38],\n",
              "       [24],\n",
              "       [34],\n",
              "       [43],\n",
              "       [36],\n",
              "       [55],\n",
              "       [41],\n",
              "       [45],\n",
              "       [41],\n",
              "       [37],\n",
              "       [43],\n",
              "       [39],\n",
              "       [33],\n",
              "       [43],\n",
              "       [40],\n",
              "       [38],\n",
              "       [45],\n",
              "       [46],\n",
              "       [34],\n",
              "       [35],\n",
              "       [48],\n",
              "       [51],\n",
              "       [36],\n",
              "       [33],\n",
              "       [46],\n",
              "       [42],\n",
              "       [48],\n",
              "       [34],\n",
              "       [41],\n",
              "       [35],\n",
              "       [40],\n",
              "       [34],\n",
              "       [30],\n",
              "       [36],\n",
              "       [40],\n",
              "       [39],\n",
              "       [45],\n",
              "       [38],\n",
              "       [47],\n",
              "       [33],\n",
              "       [30],\n",
              "       [42],\n",
              "       [43],\n",
              "       [41],\n",
              "       [41],\n",
              "       [59],\n",
              "       [43],\n",
              "       [45],\n",
              "       [38],\n",
              "       [37],\n",
              "       [45],\n",
              "       [42],\n",
              "       [57],\n",
              "       [46],\n",
              "       [51],\n",
              "       [41],\n",
              "       [47],\n",
              "       [26],\n",
              "       [35],\n",
              "       [44],\n",
              "       [41],\n",
              "       [42],\n",
              "       [36],\n",
              "       [45],\n",
              "       [45],\n",
              "       [45],\n",
              "       [47],\n",
              "       [38],\n",
              "       [42],\n",
              "       [35],\n",
              "       [36],\n",
              "       [39],\n",
              "       [45],\n",
              "       [43],\n",
              "       [47],\n",
              "       [36],\n",
              "       [41],\n",
              "       [50],\n",
              "       [39],\n",
              "       [41],\n",
              "       [46],\n",
              "       [64],\n",
              "       [45],\n",
              "       [34],\n",
              "       [38],\n",
              "       [44],\n",
              "       [48],\n",
              "       [46],\n",
              "       [44],\n",
              "       [37],\n",
              "       [39],\n",
              "       [44],\n",
              "       [45],\n",
              "       [33],\n",
              "       [44],\n",
              "       [38],\n",
              "       [46],\n",
              "       [46],\n",
              "       [40],\n",
              "       [39],\n",
              "       [44],\n",
              "       [48],\n",
              "       [50],\n",
              "       [41],\n",
              "       [42],\n",
              "       [51],\n",
              "       [41],\n",
              "       [44],\n",
              "       [38],\n",
              "       [68],\n",
              "       [40],\n",
              "       [42],\n",
              "       [51],\n",
              "       [44],\n",
              "       [45],\n",
              "       [36],\n",
              "       [57],\n",
              "       [44],\n",
              "       [42],\n",
              "       [53],\n",
              "       [42],\n",
              "       [34],\n",
              "       [40],\n",
              "       [56],\n",
              "       [44],\n",
              "       [53],\n",
              "       [55],\n",
              "       [39],\n",
              "       [59],\n",
              "       [55],\n",
              "       [73],\n",
              "       [55],\n",
              "       [44],\n",
              "       [43],\n",
              "       [40],\n",
              "       [47],\n",
              "       [51],\n",
              "       [56],\n",
              "       [49],\n",
              "       [54],\n",
              "       [56],\n",
              "       [47],\n",
              "       [44],\n",
              "       [43],\n",
              "       [42],\n",
              "       [45],\n",
              "       [50],\n",
              "       [48],\n",
              "       [43],\n",
              "       [40],\n",
              "       [59],\n",
              "       [41],\n",
              "       [42],\n",
              "       [51],\n",
              "       [49],\n",
              "       [45],\n",
              "       [43],\n",
              "       [42],\n",
              "       [38],\n",
              "       [47],\n",
              "       [38],\n",
              "       [36],\n",
              "       [42],\n",
              "       [35],\n",
              "       [28],\n",
              "       [44],\n",
              "       [36],\n",
              "       [45],\n",
              "       [46],\n",
              "       [48],\n",
              "       [49],\n",
              "       [43],\n",
              "       [42],\n",
              "       [59],\n",
              "       [45],\n",
              "       [52],\n",
              "       [46],\n",
              "       [42],\n",
              "       [40],\n",
              "       [40],\n",
              "       [45],\n",
              "       [35],\n",
              "       [35],\n",
              "       [40],\n",
              "       [39],\n",
              "       [33],\n",
              "       [42],\n",
              "       [47],\n",
              "       [51],\n",
              "       [44],\n",
              "       [40],\n",
              "       [57],\n",
              "       [49],\n",
              "       [45],\n",
              "       [49],\n",
              "       [51],\n",
              "       [46],\n",
              "       [44],\n",
              "       [52],\n",
              "       [45],\n",
              "       [32],\n",
              "       [46],\n",
              "       [41],\n",
              "       [34],\n",
              "       [33],\n",
              "       [36],\n",
              "       [49],\n",
              "       [43],\n",
              "       [43],\n",
              "       [34],\n",
              "       [39],\n",
              "       [35],\n",
              "       [52],\n",
              "       [47],\n",
              "       [52],\n",
              "       [39],\n",
              "       [40],\n",
              "       [42],\n",
              "       [42],\n",
              "       [53],\n",
              "       [39],\n",
              "       [40],\n",
              "       [38],\n",
              "       [44],\n",
              "       [34],\n",
              "       [37],\n",
              "       [52],\n",
              "       [48],\n",
              "       [55],\n",
              "       [50]])"
            ]
          },
          "metadata": {
            "tags": []
          },
          "execution_count": 17
        }
      ]
    },
    {
      "cell_type": "code",
      "metadata": {
        "colab": {
          "base_uri": "https://localhost:8080/"
        },
        "id": "W9mJCRGt-KfR",
        "outputId": "dc6c7c1f-e069-4406-e701-3725585c5ad7"
      },
      "source": [
        "type(series_value)         # we  need series to execute series data"
      ],
      "execution_count": 19,
      "outputs": [
        {
          "output_type": "execute_result",
          "data": {
            "text/plain": [
              "numpy.ndarray"
            ]
          },
          "metadata": {
            "tags": []
          },
          "execution_count": 19
        }
      ]
    },
    {
      "cell_type": "code",
      "metadata": {
        "colab": {
          "base_uri": "https://localhost:8080/"
        },
        "id": "Xh9Ge41h-W3P",
        "outputId": "087f4ba7-56a2-4164-e2a2-d6651f09e3ae"
      },
      "source": [
        "f_birth.size"
      ],
      "execution_count": 20,
      "outputs": [
        {
          "output_type": "execute_result",
          "data": {
            "text/plain": [
              "365"
            ]
          },
          "metadata": {
            "tags": []
          },
          "execution_count": 20
        }
      ]
    },
    {
      "cell_type": "code",
      "metadata": {
        "colab": {
          "base_uri": "https://localhost:8080/",
          "height": 235
        },
        "id": "bGfM6v2v-czz",
        "outputId": "89af2da7-2a5b-4094-cb5a-614a6e885aae"
      },
      "source": [
        "f_birth.tail()"
      ],
      "execution_count": 21,
      "outputs": [
        {
          "output_type": "execute_result",
          "data": {
            "text/html": [
              "<div>\n",
              "<style scoped>\n",
              "    .dataframe tbody tr th:only-of-type {\n",
              "        vertical-align: middle;\n",
              "    }\n",
              "\n",
              "    .dataframe tbody tr th {\n",
              "        vertical-align: top;\n",
              "    }\n",
              "\n",
              "    .dataframe thead th {\n",
              "        text-align: right;\n",
              "    }\n",
              "</style>\n",
              "<table border=\"1\" class=\"dataframe\">\n",
              "  <thead>\n",
              "    <tr style=\"text-align: right;\">\n",
              "      <th></th>\n",
              "      <th>births</th>\n",
              "    </tr>\n",
              "    <tr>\n",
              "      <th>date</th>\n",
              "      <th></th>\n",
              "    </tr>\n",
              "  </thead>\n",
              "  <tbody>\n",
              "    <tr>\n",
              "      <th>1959-12-27</th>\n",
              "      <td>37</td>\n",
              "    </tr>\n",
              "    <tr>\n",
              "      <th>1959-12-28</th>\n",
              "      <td>52</td>\n",
              "    </tr>\n",
              "    <tr>\n",
              "      <th>1959-12-29</th>\n",
              "      <td>48</td>\n",
              "    </tr>\n",
              "    <tr>\n",
              "      <th>1959-12-30</th>\n",
              "      <td>55</td>\n",
              "    </tr>\n",
              "    <tr>\n",
              "      <th>1959-12-31</th>\n",
              "      <td>50</td>\n",
              "    </tr>\n",
              "  </tbody>\n",
              "</table>\n",
              "</div>"
            ],
            "text/plain": [
              "            births\n",
              "date              \n",
              "1959-12-27      37\n",
              "1959-12-28      52\n",
              "1959-12-29      48\n",
              "1959-12-30      55\n",
              "1959-12-31      50"
            ]
          },
          "metadata": {
            "tags": []
          },
          "execution_count": 21
        }
      ]
    },
    {
      "cell_type": "code",
      "metadata": {
        "colab": {
          "base_uri": "https://localhost:8080/",
          "height": 297
        },
        "id": "t3HJEon5-7f0",
        "outputId": "dd3bbf9c-50aa-4e06-a541-0be6d565ebcb"
      },
      "source": [
        "f_birth.describe()"
      ],
      "execution_count": 22,
      "outputs": [
        {
          "output_type": "execute_result",
          "data": {
            "text/html": [
              "<div>\n",
              "<style scoped>\n",
              "    .dataframe tbody tr th:only-of-type {\n",
              "        vertical-align: middle;\n",
              "    }\n",
              "\n",
              "    .dataframe tbody tr th {\n",
              "        vertical-align: top;\n",
              "    }\n",
              "\n",
              "    .dataframe thead th {\n",
              "        text-align: right;\n",
              "    }\n",
              "</style>\n",
              "<table border=\"1\" class=\"dataframe\">\n",
              "  <thead>\n",
              "    <tr style=\"text-align: right;\">\n",
              "      <th></th>\n",
              "      <th>births</th>\n",
              "    </tr>\n",
              "  </thead>\n",
              "  <tbody>\n",
              "    <tr>\n",
              "      <th>count</th>\n",
              "      <td>365.000000</td>\n",
              "    </tr>\n",
              "    <tr>\n",
              "      <th>mean</th>\n",
              "      <td>41.980822</td>\n",
              "    </tr>\n",
              "    <tr>\n",
              "      <th>std</th>\n",
              "      <td>7.348257</td>\n",
              "    </tr>\n",
              "    <tr>\n",
              "      <th>min</th>\n",
              "      <td>23.000000</td>\n",
              "    </tr>\n",
              "    <tr>\n",
              "      <th>25%</th>\n",
              "      <td>37.000000</td>\n",
              "    </tr>\n",
              "    <tr>\n",
              "      <th>50%</th>\n",
              "      <td>42.000000</td>\n",
              "    </tr>\n",
              "    <tr>\n",
              "      <th>75%</th>\n",
              "      <td>46.000000</td>\n",
              "    </tr>\n",
              "    <tr>\n",
              "      <th>max</th>\n",
              "      <td>73.000000</td>\n",
              "    </tr>\n",
              "  </tbody>\n",
              "</table>\n",
              "</div>"
            ],
            "text/plain": [
              "           births\n",
              "count  365.000000\n",
              "mean    41.980822\n",
              "std      7.348257\n",
              "min     23.000000\n",
              "25%     37.000000\n",
              "50%     42.000000\n",
              "75%     46.000000\n",
              "max     73.000000"
            ]
          },
          "metadata": {
            "tags": []
          },
          "execution_count": 22
        }
      ]
    },
    {
      "cell_type": "code",
      "metadata": {
        "id": "kLuaMCN8soAY"
      },
      "source": [
        "import seaborn as sns"
      ],
      "execution_count": 23,
      "outputs": []
    },
    {
      "cell_type": "code",
      "metadata": {
        "colab": {
          "base_uri": "https://localhost:8080/",
          "height": 296
        },
        "id": "iG0jHbhQua4-",
        "outputId": "d0ccc59d-bb99-4507-bad6-18642c9dd248"
      },
      "source": [
        "sns.boxplot(x=f_birth['births'])  # We can see out lier here so we need to balence data"
      ],
      "execution_count": 24,
      "outputs": [
        {
          "output_type": "execute_result",
          "data": {
            "text/plain": [
              "<matplotlib.axes._subplots.AxesSubplot at 0x7f1e2a21fad0>"
            ]
          },
          "metadata": {
            "tags": []
          },
          "execution_count": 24
        },
        {
          "output_type": "display_data",
          "data": {
            "image/png": "[encoded data removed]",
            "text/plain": [
              "<Figure size 432x288 with 1 Axes>"
            ]
          },
          "metadata": {
            "tags": [],
            "needs_background": "light"
          }
        }
      ]
    },
    {
      "cell_type": "code",
      "metadata": {
        "colab": {
          "base_uri": "https://localhost:8080/",
          "height": 282
        },
        "id": "CFgZIrFzuvL7",
        "outputId": "4c02156d-0067-4d79-c400-9c88cb854eb2"
      },
      "source": [
        "np.log(f_birth.births).plot(kind='box',vert=False)"
      ],
      "execution_count": 25,
      "outputs": [
        {
          "output_type": "execute_result",
          "data": {
            "text/plain": [
              "<matplotlib.axes._subplots.AxesSubplot at 0x7f1e2a237cd0>"
            ]
          },
          "metadata": {
            "tags": []
          },
          "execution_count": 25
        },
        {
          "output_type": "display_data",
          "data": {
            "image/png": "[encoded data removed]",
            "text/plain": [
              "<Figure size 432x288 with 1 Axes>"
            ]
          },
          "metadata": {
            "tags": [],
            "needs_background": "light"
          }
        }
      ]
    },
    {
      "cell_type": "code",
      "metadata": {
        "colab": {
          "base_uri": "https://localhost:8080/",
          "height": 297
        },
        "id": "SYGmAKLbwsZ4",
        "outputId": "1bafd62a-5ca3-48fa-aa56-6c04b4ab400d"
      },
      "source": [
        "f_birth.describe()"
      ],
      "execution_count": 26,
      "outputs": [
        {
          "output_type": "execute_result",
          "data": {
            "text/html": [
              "<div>\n",
              "<style scoped>\n",
              "    .dataframe tbody tr th:only-of-type {\n",
              "        vertical-align: middle;\n",
              "    }\n",
              "\n",
              "    .dataframe tbody tr th {\n",
              "        vertical-align: top;\n",
              "    }\n",
              "\n",
              "    .dataframe thead th {\n",
              "        text-align: right;\n",
              "    }\n",
              "</style>\n",
              "<table border=\"1\" class=\"dataframe\">\n",
              "  <thead>\n",
              "    <tr style=\"text-align: right;\">\n",
              "      <th></th>\n",
              "      <th>births</th>\n",
              "    </tr>\n",
              "  </thead>\n",
              "  <tbody>\n",
              "    <tr>\n",
              "      <th>count</th>\n",
              "      <td>365.000000</td>\n",
              "    </tr>\n",
              "    <tr>\n",
              "      <th>mean</th>\n",
              "      <td>41.980822</td>\n",
              "    </tr>\n",
              "    <tr>\n",
              "      <th>std</th>\n",
              "      <td>7.348257</td>\n",
              "    </tr>\n",
              "    <tr>\n",
              "      <th>min</th>\n",
              "      <td>23.000000</td>\n",
              "    </tr>\n",
              "    <tr>\n",
              "      <th>25%</th>\n",
              "      <td>37.000000</td>\n",
              "    </tr>\n",
              "    <tr>\n",
              "      <th>50%</th>\n",
              "      <td>42.000000</td>\n",
              "    </tr>\n",
              "    <tr>\n",
              "      <th>75%</th>\n",
              "      <td>46.000000</td>\n",
              "    </tr>\n",
              "    <tr>\n",
              "      <th>max</th>\n",
              "      <td>73.000000</td>\n",
              "    </tr>\n",
              "  </tbody>\n",
              "</table>\n",
              "</div>"
            ],
            "text/plain": [
              "           births\n",
              "count  365.000000\n",
              "mean    41.980822\n",
              "std      7.348257\n",
              "min     23.000000\n",
              "25%     37.000000\n",
              "50%     42.000000\n",
              "75%     46.000000\n",
              "max     73.000000"
            ]
          },
          "metadata": {
            "tags": []
          },
          "execution_count": 26
        }
      ]
    },
    {
      "cell_type": "code",
      "metadata": {
        "colab": {
          "base_uri": "https://localhost:8080/",
          "height": 308
        },
        "id": "0leOZpAY4WFJ",
        "outputId": "a93eaf76-2e40-47fa-bb5f-94ac89d40d7c"
      },
      "source": [
        "f_birth.plot() # We need to smoothing the series with the help of moving averages"
      ],
      "execution_count": 27,
      "outputs": [
        {
          "output_type": "execute_result",
          "data": {
            "text/plain": [
              "<matplotlib.axes._subplots.AxesSubplot at 0x7f1e2a1e9cd0>"
            ]
          },
          "metadata": {
            "tags": []
          },
          "execution_count": 27
        },
        {
          "output_type": "display_data",
          "data": {
            "image/png": "[encoded data removed]",
            "text/plain": [
              "<Figure size 432x288 with 1 Axes>"
            ]
          },
          "metadata": {
            "tags": [],
            "needs_background": "light"
          }
        }
      ]
    },
    {
      "cell_type": "code",
      "metadata": {
        "id": "Yd3qFHDOAVpP"
      },
      "source": [
        "f_birth_mean = f_birth.rolling(window = 30).mean()"
      ],
      "execution_count": 30,
      "outputs": []
    },
    {
      "cell_type": "code",
      "metadata": {
        "colab": {
          "base_uri": "https://localhost:8080/",
          "height": 308
        },
        "id": "K5vIglyME1K2",
        "outputId": "9b0aafa4-a3a8-4eea-85c2-059342cc3fcd"
      },
      "source": [
        "f_birth_mean.plot()"
      ],
      "execution_count": 31,
      "outputs": [
        {
          "output_type": "execute_result",
          "data": {
            "text/plain": [
              "<matplotlib.axes._subplots.AxesSubplot at 0x7f1e28c4ecd0>"
            ]
          },
          "metadata": {
            "tags": []
          },
          "execution_count": 31
        },
        {
          "output_type": "display_data",
          "data": {
            "image/png": "[encoded data removed]",
            "text/plain": [
              "<Figure size 432x288 with 1 Axes>"
            ]
          },
          "metadata": {
            "tags": [],
            "needs_background": "light"
          }
        }
      ]
    },
    {
      "cell_type": "code",
      "metadata": {
        "id": "4E2KA6ItE6O2"
      },
      "source": [
        "# Models in time series data\n",
        "# 1. Base Line Model\n",
        "# 2. Moving Average model\n",
        "# 3. Autoregressiove\n",
        "# 4. Exponential model\n",
        "# 5. ARIMA\n",
        "# 6. SARIMA"
      ],
      "execution_count": 32,
      "outputs": []
    },
    {
      "cell_type": "code",
      "metadata": {
        "id": "JkZzHn6TGNae"
      },
      "source": [
        "# We are going to create base line model\n",
        "# Assumption : nex value will be Previous value, recent history is the best reflection of the future\n",
        "\n"
      ],
      "execution_count": 33,
      "outputs": []
    },
    {
      "cell_type": "code",
      "metadata": {
        "id": "rsrm66VqHCWQ"
      },
      "source": [
        "value = pd.DataFrame(series_value)                     # need to convert series into dataframe first"
      ],
      "execution_count": 36,
      "outputs": []
    },
    {
      "cell_type": "code",
      "metadata": {
        "id": "-6WkRJ44GnnC"
      },
      "source": [
        "birth_df = pd.concat([value, value.shift(1)], axis = 1)"
      ],
      "execution_count": 38,
      "outputs": []
    },
    {
      "cell_type": "code",
      "metadata": {
        "colab": {
          "base_uri": "https://localhost:8080/",
          "height": 204
        },
        "id": "C5g0vms7G8rk",
        "outputId": "13d9703f-38be-4632-d4bb-a8828740a676"
      },
      "source": [
        "birth_df.head()          # give headers to it"
      ],
      "execution_count": 39,
      "outputs": [
        {
          "output_type": "execute_result",
          "data": {
            "text/html": [
              "<div>\n",
              "<style scoped>\n",
              "    .dataframe tbody tr th:only-of-type {\n",
              "        vertical-align: middle;\n",
              "    }\n",
              "\n",
              "    .dataframe tbody tr th {\n",
              "        vertical-align: top;\n",
              "    }\n",
              "\n",
              "    .dataframe thead th {\n",
              "        text-align: right;\n",
              "    }\n",
              "</style>\n",
              "<table border=\"1\" class=\"dataframe\">\n",
              "  <thead>\n",
              "    <tr style=\"text-align: right;\">\n",
              "      <th></th>\n",
              "      <th>0</th>\n",
              "      <th>0</th>\n",
              "    </tr>\n",
              "  </thead>\n",
              "  <tbody>\n",
              "    <tr>\n",
              "      <th>0</th>\n",
              "      <td>35</td>\n",
              "      <td>NaN</td>\n",
              "    </tr>\n",
              "    <tr>\n",
              "      <th>1</th>\n",
              "      <td>32</td>\n",
              "      <td>35.0</td>\n",
              "    </tr>\n",
              "    <tr>\n",
              "      <th>2</th>\n",
              "      <td>30</td>\n",
              "      <td>32.0</td>\n",
              "    </tr>\n",
              "    <tr>\n",
              "      <th>3</th>\n",
              "      <td>31</td>\n",
              "      <td>30.0</td>\n",
              "    </tr>\n",
              "    <tr>\n",
              "      <th>4</th>\n",
              "      <td>44</td>\n",
              "      <td>31.0</td>\n",
              "    </tr>\n",
              "  </tbody>\n",
              "</table>\n",
              "</div>"
            ],
            "text/plain": [
              "    0     0\n",
              "0  35   NaN\n",
              "1  32  35.0\n",
              "2  30  32.0\n",
              "3  31  30.0\n",
              "4  44  31.0"
            ]
          },
          "metadata": {
            "tags": []
          },
          "execution_count": 39
        }
      ]
    },
    {
      "cell_type": "code",
      "metadata": {
        "id": "vT-lmqv4HVR6"
      },
      "source": [
        "birth_df.columns = ['current_birth', 'Forecast_birth']"
      ],
      "execution_count": 41,
      "outputs": []
    },
    {
      "cell_type": "code",
      "metadata": {
        "id": "EFo4DqHuHg34"
      },
      "source": [
        "from sklearn.metrics import mean_squared_error"
      ],
      "execution_count": 42,
      "outputs": []
    },
    {
      "cell_type": "code",
      "metadata": {
        "colab": {
          "base_uri": "https://localhost:8080/",
          "height": 306
        },
        "id": "EDBbJqSLJwv2",
        "outputId": "90b51ff9-ba60-4d1d-93ed-79f5400099c8"
      },
      "source": [
        "birth_error = mean_squared_error(birth_df.current_birth, birth_df.Forecast_birth)"
      ],
      "execution_count": 44,
      "outputs": [
        {
          "output_type": "error",
          "ename": "ValueError",
          "evalue": "ignored",
          "traceback": [
            "\u001b[0;31m---------------------------------------------------------------------------\u001b[0m",
            "\u001b[0;31mValueError\u001b[0m                                Traceback (most recent call last)",
            "\u001b[0;32m<ipython-input-44-17f934340b00>\u001b[0m in \u001b[0;36m<module>\u001b[0;34m()\u001b[0m\n\u001b[0;32m----> 1\u001b[0;31m \u001b[0mbirth_error\u001b[0m \u001b[0;34m=\u001b[0m \u001b[0mmean_squared_error\u001b[0m\u001b[0;34m(\u001b[0m\u001b[0mbirth_df\u001b[0m\u001b[0;34m.\u001b[0m\u001b[0mcurrent_birth\u001b[0m\u001b[0;34m,\u001b[0m \u001b[0mbirth_df\u001b[0m\u001b[0;34m.\u001b[0m\u001b[0mForecast_birth\u001b[0m\u001b[0;34m)\u001b[0m\u001b[0;34m\u001b[0m\u001b[0;34m\u001b[0m\u001b[0m\n\u001b[0m",
            "\u001b[0;32m/usr/local/lib/python3.7/dist-packages/sklearn/metrics/_regression.py\u001b[0m in \u001b[0;36mmean_squared_error\u001b[0;34m(y_true, y_pred, sample_weight, multioutput, squared)\u001b[0m\n\u001b[1;32m    250\u001b[0m     \"\"\"\n\u001b[1;32m    251\u001b[0m     y_type, y_true, y_pred, multioutput = _check_reg_targets(\n\u001b[0;32m--> 252\u001b[0;31m         y_true, y_pred, multioutput)\n\u001b[0m\u001b[1;32m    253\u001b[0m     \u001b[0mcheck_consistent_length\u001b[0m\u001b[0;34m(\u001b[0m\u001b[0my_true\u001b[0m\u001b[0;34m,\u001b[0m \u001b[0my_pred\u001b[0m\u001b[0;34m,\u001b[0m \u001b[0msample_weight\u001b[0m\u001b[0;34m)\u001b[0m\u001b[0;34m\u001b[0m\u001b[0;34m\u001b[0m\u001b[0m\n\u001b[1;32m    254\u001b[0m     output_errors = np.average((y_true - y_pred) ** 2, axis=0,\n",
            "\u001b[0;32m/usr/local/lib/python3.7/dist-packages/sklearn/metrics/_regression.py\u001b[0m in \u001b[0;36m_check_reg_targets\u001b[0;34m(y_true, y_pred, multioutput, dtype)\u001b[0m\n\u001b[1;32m     84\u001b[0m     \u001b[0mcheck_consistent_length\u001b[0m\u001b[0;34m(\u001b[0m\u001b[0my_true\u001b[0m\u001b[0;34m,\u001b[0m \u001b[0my_pred\u001b[0m\u001b[0;34m)\u001b[0m\u001b[0;34m\u001b[0m\u001b[0;34m\u001b[0m\u001b[0m\n\u001b[1;32m     85\u001b[0m     \u001b[0my_true\u001b[0m \u001b[0;34m=\u001b[0m \u001b[0mcheck_array\u001b[0m\u001b[0;34m(\u001b[0m\u001b[0my_true\u001b[0m\u001b[0;34m,\u001b[0m \u001b[0mensure_2d\u001b[0m\u001b[0;34m=\u001b[0m\u001b[0;32mFalse\u001b[0m\u001b[0;34m,\u001b[0m \u001b[0mdtype\u001b[0m\u001b[0;34m=\u001b[0m\u001b[0mdtype\u001b[0m\u001b[0;34m)\u001b[0m\u001b[0;34m\u001b[0m\u001b[0;34m\u001b[0m\u001b[0m\n\u001b[0;32m---> 86\u001b[0;31m     \u001b[0my_pred\u001b[0m \u001b[0;34m=\u001b[0m \u001b[0mcheck_array\u001b[0m\u001b[0;34m(\u001b[0m\u001b[0my_pred\u001b[0m\u001b[0;34m,\u001b[0m \u001b[0mensure_2d\u001b[0m\u001b[0;34m=\u001b[0m\u001b[0;32mFalse\u001b[0m\u001b[0;34m,\u001b[0m \u001b[0mdtype\u001b[0m\u001b[0;34m=\u001b[0m\u001b[0mdtype\u001b[0m\u001b[0;34m)\u001b[0m\u001b[0;34m\u001b[0m\u001b[0;34m\u001b[0m\u001b[0m\n\u001b[0m\u001b[1;32m     87\u001b[0m \u001b[0;34m\u001b[0m\u001b[0m\n\u001b[1;32m     88\u001b[0m     \u001b[0;32mif\u001b[0m \u001b[0my_true\u001b[0m\u001b[0;34m.\u001b[0m\u001b[0mndim\u001b[0m \u001b[0;34m==\u001b[0m \u001b[0;36m1\u001b[0m\u001b[0;34m:\u001b[0m\u001b[0;34m\u001b[0m\u001b[0;34m\u001b[0m\u001b[0m\n",
            "\u001b[0;32m/usr/local/lib/python3.7/dist-packages/sklearn/utils/validation.py\u001b[0m in \u001b[0;36mcheck_array\u001b[0;34m(array, accept_sparse, accept_large_sparse, dtype, order, copy, force_all_finite, ensure_2d, allow_nd, ensure_min_samples, ensure_min_features, warn_on_dtype, estimator)\u001b[0m\n\u001b[1;32m    576\u001b[0m         \u001b[0;32mif\u001b[0m \u001b[0mforce_all_finite\u001b[0m\u001b[0;34m:\u001b[0m\u001b[0;34m\u001b[0m\u001b[0;34m\u001b[0m\u001b[0m\n\u001b[1;32m    577\u001b[0m             _assert_all_finite(array,\n\u001b[0;32m--> 578\u001b[0;31m                                allow_nan=force_all_finite == 'allow-nan')\n\u001b[0m\u001b[1;32m    579\u001b[0m \u001b[0;34m\u001b[0m\u001b[0m\n\u001b[1;32m    580\u001b[0m     \u001b[0;32mif\u001b[0m \u001b[0mensure_min_samples\u001b[0m \u001b[0;34m>\u001b[0m \u001b[0;36m0\u001b[0m\u001b[0;34m:\u001b[0m\u001b[0;34m\u001b[0m\u001b[0;34m\u001b[0m\u001b[0m\n",
            "\u001b[0;32m/usr/local/lib/python3.7/dist-packages/sklearn/utils/validation.py\u001b[0m in \u001b[0;36m_assert_all_finite\u001b[0;34m(X, allow_nan, msg_dtype)\u001b[0m\n\u001b[1;32m     58\u001b[0m                     \u001b[0mmsg_err\u001b[0m\u001b[0;34m.\u001b[0m\u001b[0mformat\u001b[0m\u001b[0;34m\u001b[0m\u001b[0;34m\u001b[0m\u001b[0m\n\u001b[1;32m     59\u001b[0m                     (type_err,\n\u001b[0;32m---> 60\u001b[0;31m                      msg_dtype if msg_dtype is not None else X.dtype)\n\u001b[0m\u001b[1;32m     61\u001b[0m             )\n\u001b[1;32m     62\u001b[0m     \u001b[0;31m# for object dtype data, we only check for NaNs (GH-13254)\u001b[0m\u001b[0;34m\u001b[0m\u001b[0;34m\u001b[0m\u001b[0;34m\u001b[0m\u001b[0m\n",
            "\u001b[0;31mValueError\u001b[0m: Input contains NaN, infinity or a value too large for dtype('float64')."
          ]
        }
      ]
    },
    {
      "cell_type": "code",
      "metadata": {
        "id": "lZQeB564KTCx"
      },
      "source": [
        "birth_test = birth_df[1: ]"
      ],
      "execution_count": 45,
      "outputs": []
    },
    {
      "cell_type": "code",
      "metadata": {
        "colab": {
          "base_uri": "https://localhost:8080/",
          "height": 204
        },
        "id": "Mqlj12qkKxSW",
        "outputId": "068e0aec-6f65-467d-fca0-1bfb3f57a2a1"
      },
      "source": [
        "birth_test.head()"
      ],
      "execution_count": 47,
      "outputs": [
        {
          "output_type": "execute_result",
          "data": {
            "text/html": [
              "<div>\n",
              "<style scoped>\n",
              "    .dataframe tbody tr th:only-of-type {\n",
              "        vertical-align: middle;\n",
              "    }\n",
              "\n",
              "    .dataframe tbody tr th {\n",
              "        vertical-align: top;\n",
              "    }\n",
              "\n",
              "    .dataframe thead th {\n",
              "        text-align: right;\n",
              "    }\n",
              "</style>\n",
              "<table border=\"1\" class=\"dataframe\">\n",
              "  <thead>\n",
              "    <tr style=\"text-align: right;\">\n",
              "      <th></th>\n",
              "      <th>current_birth</th>\n",
              "      <th>Forecast_birth</th>\n",
              "    </tr>\n",
              "  </thead>\n",
              "  <tbody>\n",
              "    <tr>\n",
              "      <th>1</th>\n",
              "      <td>32</td>\n",
              "      <td>35.0</td>\n",
              "    </tr>\n",
              "    <tr>\n",
              "      <th>2</th>\n",
              "      <td>30</td>\n",
              "      <td>32.0</td>\n",
              "    </tr>\n",
              "    <tr>\n",
              "      <th>3</th>\n",
              "      <td>31</td>\n",
              "      <td>30.0</td>\n",
              "    </tr>\n",
              "    <tr>\n",
              "      <th>4</th>\n",
              "      <td>44</td>\n",
              "      <td>31.0</td>\n",
              "    </tr>\n",
              "    <tr>\n",
              "      <th>5</th>\n",
              "      <td>29</td>\n",
              "      <td>44.0</td>\n",
              "    </tr>\n",
              "  </tbody>\n",
              "</table>\n",
              "</div>"
            ],
            "text/plain": [
              "   current_birth  Forecast_birth\n",
              "1             32            35.0\n",
              "2             30            32.0\n",
              "3             31            30.0\n",
              "4             44            31.0\n",
              "5             29            44.0"
            ]
          },
          "metadata": {
            "tags": []
          },
          "execution_count": 47
        }
      ]
    },
    {
      "cell_type": "code",
      "metadata": {
        "id": "YWZE5WLHK0Fw"
      },
      "source": [
        "birth_error = mean_squared_error(birth_test.current_birth, birth_test.Forecast_birth)"
      ],
      "execution_count": 48,
      "outputs": []
    },
    {
      "cell_type": "code",
      "metadata": {
        "colab": {
          "base_uri": "https://localhost:8080/"
        },
        "id": "Ze44AOlhLCeU",
        "outputId": "3c03855b-f2e4-4cff-9282-d89c743f9d56"
      },
      "source": [
        "birth_error"
      ],
      "execution_count": 49,
      "outputs": [
        {
          "output_type": "execute_result",
          "data": {
            "text/plain": [
              "84.22252747252747"
            ]
          },
          "metadata": {
            "tags": []
          },
          "execution_count": 49
        }
      ]
    },
    {
      "cell_type": "code",
      "metadata": {
        "colab": {
          "base_uri": "https://localhost:8080/"
        },
        "id": "Uz9vRZP8LLlo",
        "outputId": "0b07933d-f37f-4103-efd3-fcd634dfe615"
      },
      "source": [
        "np.sqrt(birth_error)"
      ],
      "execution_count": 50,
      "outputs": [
        {
          "output_type": "execute_result",
          "data": {
            "text/plain": [
              "9.177283229394606"
            ]
          },
          "metadata": {
            "tags": []
          },
          "execution_count": 50
        }
      ]
    },
    {
      "cell_type": "code",
      "metadata": {
        "id": "H5S2VpBlLHmm"
      },
      "source": [
        "# Create a Model\n",
        "# ARIMA Model = Autoregressive Integrated(d) Moving Average (q)\n",
        "# Time series should be stationary      "
      ],
      "execution_count": 51,
      "outputs": []
    },
    {
      "cell_type": "code",
      "metadata": {
        "id": "ecvd6cLIOpm-"
      },
      "source": [
        "# Create a correlation chart\n",
        "from statsmodels.graphics.tsaplots import  plot_acf,plot_pacf"
      ],
      "execution_count": 52,
      "outputs": []
    },
    {
      "cell_type": "code",
      "metadata": {
        "colab": {
          "base_uri": "https://localhost:8080/",
          "height": 545
        },
        "id": "iQU5wXzwO4QB",
        "outputId": "73be3406-6d75-49a1-dbe0-7e8d6abfccdc"
      },
      "source": [
        "# plot_acf is to identify Q\n",
        "#ARIMA(p,d,q)\n",
        "plot_acf(f_birth)              # to identify the value of q"
      ],
      "execution_count": 53,
      "outputs": [
        {
          "output_type": "execute_result",
          "data": {
            "image/png": "[encoded data removed]",
            "text/plain": [
              "<Figure size 432x288 with 1 Axes>"
            ]
          },
          "metadata": {
            "tags": []
          },
          "execution_count": 53
        },
        {
          "output_type": "display_data",
          "data": {
            "image/png": "[encoded data removed]",
            "text/plain": [
              "<Figure size 432x288 with 1 Axes>"
            ]
          },
          "metadata": {
            "tags": [],
            "needs_background": "light"
          }
        }
      ]
    },
    {
      "cell_type": "code",
      "metadata": {
        "colab": {
          "base_uri": "https://localhost:8080/",
          "height": 545
        },
        "id": "ZUAd1k4XPGSE",
        "outputId": "472b7b3d-45d1-419e-d656-2a428bfb609d"
      },
      "source": [
        "plot_pacf(f_birth)  # to identify the value of p"
      ],
      "execution_count": 54,
      "outputs": [
        {
          "output_type": "execute_result",
          "data": {
            "image/png": "[encoded data removed]",
            "text/plain": [
              "<Figure size 432x288 with 1 Axes>"
            ]
          },
          "metadata": {
            "tags": []
          },
          "execution_count": 54
        },
        {
          "output_type": "display_data",
          "data": {
            "image/png": "[encoded data removed]",
            "text/plain": [
              "<Figure size 432x288 with 1 Axes>"
            ]
          },
          "metadata": {
            "tags": [],
            "needs_background": "light"
          }
        }
      ]
    },
    {
      "cell_type": "code",
      "metadata": {
        "colab": {
          "base_uri": "https://localhost:8080/"
        },
        "id": "axTH9jb5PmqV",
        "outputId": "be0b146a-2c99-4ae9-b1bf-bb0f0d4cb45b"
      },
      "source": [
        "# Create a model\n",
        "# p = 2,3            d = 0 , q = 3,4\n",
        "\n",
        "f_birth.size"
      ],
      "execution_count": 55,
      "outputs": [
        {
          "output_type": "execute_result",
          "data": {
            "text/plain": [
              "365"
            ]
          },
          "metadata": {
            "tags": []
          },
          "execution_count": 55
        }
      ]
    },
    {
      "cell_type": "code",
      "metadata": {
        "id": "D_4vG-W4QYUR"
      },
      "source": [
        "birth_train = f_birth[0:330]           #Split train and test data\n",
        "birth_test = f_birth[330:365]"
      ],
      "execution_count": 56,
      "outputs": []
    },
    {
      "cell_type": "code",
      "metadata": {
        "id": "UplbG9JkQnaS"
      },
      "source": [
        "from statsmodels.tsa.arima_model import ARIMA"
      ],
      "execution_count": 57,
      "outputs": []
    },
    {
      "cell_type": "code",
      "metadata": {
        "colab": {
          "base_uri": "https://localhost:8080/"
        },
        "id": "ph1dyFZuQvoz",
        "outputId": "3e2742a0-5566-4e24-bbd7-e4b31a23e3af"
      },
      "source": [
        "birth_model = ARIMA(birth_train, order = (2,1,3))"
      ],
      "execution_count": 61,
      "outputs": [
        {
          "output_type": "stream",
          "text": [
            "/usr/local/lib/python3.7/dist-packages/statsmodels/tsa/base/tsa_model.py:165: ValueWarning: No frequency information was provided, so inferred frequency D will be used.\n",
            "  % freq, ValueWarning)\n",
            "/usr/local/lib/python3.7/dist-packages/statsmodels/tsa/base/tsa_model.py:165: ValueWarning: No frequency information was provided, so inferred frequency D will be used.\n",
            "  % freq, ValueWarning)\n"
          ],
          "name": "stderr"
        }
      ]
    },
    {
      "cell_type": "code",
      "metadata": {
        "id": "3sFoqkm1Q35O"
      },
      "source": [
        "birth_model_fit = birth_model.fit()"
      ],
      "execution_count": 62,
      "outputs": []
    },
    {
      "cell_type": "code",
      "metadata": {
        "colab": {
          "base_uri": "https://localhost:8080/"
        },
        "id": "58A0F8ERRB4g",
        "outputId": "43b682c0-219f-4215-d637-0a72ae37013a"
      },
      "source": [
        "birth_model_fit.aic # acaik information criteria saperate topic"
      ],
      "execution_count": 63,
      "outputs": [
        {
          "output_type": "execute_result",
          "data": {
            "text/plain": [
              "2230.9482523572665"
            ]
          },
          "metadata": {
            "tags": []
          },
          "execution_count": 63
        }
      ]
    },
    {
      "cell_type": "code",
      "metadata": {
        "id": "CJpsipkHRenu"
      },
      "source": [
        "birth_forecast = birth_model_fit.forecast(steps = 35)[0] # 0 contains forecast values"
      ],
      "execution_count": 65,
      "outputs": []
    },
    {
      "cell_type": "code",
      "metadata": {
        "colab": {
          "base_uri": "https://localhost:8080/"
        },
        "id": "At4Bx7JbRwJG",
        "outputId": "7c8110b2-b0f6-4de1-de91-ead9f456aaf7"
      },
      "source": [
        "birth_forecast"
      ],
      "execution_count": 66,
      "outputs": [
        {
          "output_type": "execute_result",
          "data": {
            "text/plain": [
              "array([45.30369833, 46.3106401 , 43.64945872, 44.59219668, 46.49706372,\n",
              "       44.34348086, 44.08984412, 46.34390382, 45.07535206, 43.88105961,\n",
              "       45.9521466 , 45.69576995, 43.97398079, 45.45674188, 46.10377395,\n",
              "       44.31134533, 44.99233795, 46.26018937, 44.79345871, 44.66474437,\n",
              "       46.18573149, 45.30637415, 44.5332346 , 45.94670787, 45.74844039,\n",
              "       44.60565402, 45.63340441, 46.04985077, 44.84525522, 45.33695327,\n",
              "       46.18219996, 45.1858708 , 45.12984484, 46.15767119, 45.55082443])"
            ]
          },
          "metadata": {
            "tags": []
          },
          "execution_count": 66
        }
      ]
    },
    {
      "cell_type": "code",
      "metadata": {
        "colab": {
          "base_uri": "https://localhost:8080/",
          "height": 1000
        },
        "id": "nFymhUfMSCm4",
        "outputId": "7c6d49e5-d6f1-4a92-a505-0b86ac6ae030"
      },
      "source": [
        "birth_test"
      ],
      "execution_count": 68,
      "outputs": [
        {
          "output_type": "execute_result",
          "data": {
            "text/html": [
              "<div>\n",
              "<style scoped>\n",
              "    .dataframe tbody tr th:only-of-type {\n",
              "        vertical-align: middle;\n",
              "    }\n",
              "\n",
              "    .dataframe tbody tr th {\n",
              "        vertical-align: top;\n",
              "    }\n",
              "\n",
              "    .dataframe thead th {\n",
              "        text-align: right;\n",
              "    }\n",
              "</style>\n",
              "<table border=\"1\" class=\"dataframe\">\n",
              "  <thead>\n",
              "    <tr style=\"text-align: right;\">\n",
              "      <th></th>\n",
              "      <th>births</th>\n",
              "    </tr>\n",
              "    <tr>\n",
              "      <th>date</th>\n",
              "      <th></th>\n",
              "    </tr>\n",
              "  </thead>\n",
              "  <tbody>\n",
              "    <tr>\n",
              "      <th>1959-11-27</th>\n",
              "      <td>51</td>\n",
              "    </tr>\n",
              "    <tr>\n",
              "      <th>1959-11-28</th>\n",
              "      <td>46</td>\n",
              "    </tr>\n",
              "    <tr>\n",
              "      <th>1959-11-29</th>\n",
              "      <td>44</td>\n",
              "    </tr>\n",
              "    <tr>\n",
              "      <th>1959-11-30</th>\n",
              "      <td>52</td>\n",
              "    </tr>\n",
              "    <tr>\n",
              "      <th>1959-12-01</th>\n",
              "      <td>45</td>\n",
              "    </tr>\n",
              "    <tr>\n",
              "      <th>1959-12-02</th>\n",
              "      <td>32</td>\n",
              "    </tr>\n",
              "    <tr>\n",
              "      <th>1959-12-03</th>\n",
              "      <td>46</td>\n",
              "    </tr>\n",
              "    <tr>\n",
              "      <th>1959-12-04</th>\n",
              "      <td>41</td>\n",
              "    </tr>\n",
              "    <tr>\n",
              "      <th>1959-12-05</th>\n",
              "      <td>34</td>\n",
              "    </tr>\n",
              "    <tr>\n",
              "      <th>1959-12-06</th>\n",
              "      <td>33</td>\n",
              "    </tr>\n",
              "    <tr>\n",
              "      <th>1959-12-07</th>\n",
              "      <td>36</td>\n",
              "    </tr>\n",
              "    <tr>\n",
              "      <th>1959-12-08</th>\n",
              "      <td>49</td>\n",
              "    </tr>\n",
              "    <tr>\n",
              "      <th>1959-12-09</th>\n",
              "      <td>43</td>\n",
              "    </tr>\n",
              "    <tr>\n",
              "      <th>1959-12-10</th>\n",
              "      <td>43</td>\n",
              "    </tr>\n",
              "    <tr>\n",
              "      <th>1959-12-11</th>\n",
              "      <td>34</td>\n",
              "    </tr>\n",
              "    <tr>\n",
              "      <th>1959-12-12</th>\n",
              "      <td>39</td>\n",
              "    </tr>\n",
              "    <tr>\n",
              "      <th>1959-12-13</th>\n",
              "      <td>35</td>\n",
              "    </tr>\n",
              "    <tr>\n",
              "      <th>1959-12-14</th>\n",
              "      <td>52</td>\n",
              "    </tr>\n",
              "    <tr>\n",
              "      <th>1959-12-15</th>\n",
              "      <td>47</td>\n",
              "    </tr>\n",
              "    <tr>\n",
              "      <th>1959-12-16</th>\n",
              "      <td>52</td>\n",
              "    </tr>\n",
              "    <tr>\n",
              "      <th>1959-12-17</th>\n",
              "      <td>39</td>\n",
              "    </tr>\n",
              "    <tr>\n",
              "      <th>1959-12-18</th>\n",
              "      <td>40</td>\n",
              "    </tr>\n",
              "    <tr>\n",
              "      <th>1959-12-19</th>\n",
              "      <td>42</td>\n",
              "    </tr>\n",
              "    <tr>\n",
              "      <th>1959-12-20</th>\n",
              "      <td>42</td>\n",
              "    </tr>\n",
              "    <tr>\n",
              "      <th>1959-12-21</th>\n",
              "      <td>53</td>\n",
              "    </tr>\n",
              "    <tr>\n",
              "      <th>1959-12-22</th>\n",
              "      <td>39</td>\n",
              "    </tr>\n",
              "    <tr>\n",
              "      <th>1959-12-23</th>\n",
              "      <td>40</td>\n",
              "    </tr>\n",
              "    <tr>\n",
              "      <th>1959-12-24</th>\n",
              "      <td>38</td>\n",
              "    </tr>\n",
              "    <tr>\n",
              "      <th>1959-12-25</th>\n",
              "      <td>44</td>\n",
              "    </tr>\n",
              "    <tr>\n",
              "      <th>1959-12-26</th>\n",
              "      <td>34</td>\n",
              "    </tr>\n",
              "    <tr>\n",
              "      <th>1959-12-27</th>\n",
              "      <td>37</td>\n",
              "    </tr>\n",
              "    <tr>\n",
              "      <th>1959-12-28</th>\n",
              "      <td>52</td>\n",
              "    </tr>\n",
              "    <tr>\n",
              "      <th>1959-12-29</th>\n",
              "      <td>48</td>\n",
              "    </tr>\n",
              "    <tr>\n",
              "      <th>1959-12-30</th>\n",
              "      <td>55</td>\n",
              "    </tr>\n",
              "    <tr>\n",
              "      <th>1959-12-31</th>\n",
              "      <td>50</td>\n",
              "    </tr>\n",
              "  </tbody>\n",
              "</table>\n",
              "</div>"
            ],
            "text/plain": [
              "            births\n",
              "date              \n",
              "1959-11-27      51\n",
              "1959-11-28      46\n",
              "1959-11-29      44\n",
              "1959-11-30      52\n",
              "1959-12-01      45\n",
              "1959-12-02      32\n",
              "1959-12-03      46\n",
              "1959-12-04      41\n",
              "1959-12-05      34\n",
              "1959-12-06      33\n",
              "1959-12-07      36\n",
              "1959-12-08      49\n",
              "1959-12-09      43\n",
              "1959-12-10      43\n",
              "1959-12-11      34\n",
              "1959-12-12      39\n",
              "1959-12-13      35\n",
              "1959-12-14      52\n",
              "1959-12-15      47\n",
              "1959-12-16      52\n",
              "1959-12-17      39\n",
              "1959-12-18      40\n",
              "1959-12-19      42\n",
              "1959-12-20      42\n",
              "1959-12-21      53\n",
              "1959-12-22      39\n",
              "1959-12-23      40\n",
              "1959-12-24      38\n",
              "1959-12-25      44\n",
              "1959-12-26      34\n",
              "1959-12-27      37\n",
              "1959-12-28      52\n",
              "1959-12-29      48\n",
              "1959-12-30      55\n",
              "1959-12-31      50"
            ]
          },
          "metadata": {
            "tags": []
          },
          "execution_count": 68
        }
      ]
    },
    {
      "cell_type": "code",
      "metadata": {
        "id": "yC93Aj6JSFuv"
      },
      "source": [
        "# Try to calculate error"
      ],
      "execution_count": null,
      "outputs": []
    },
    {
      "cell_type": "code",
      "metadata": {
        "colab": {
          "base_uri": "https://localhost:8080/"
        },
        "id": "z_22p3_sSKD0",
        "outputId": "3ae7966f-e91b-4c7c-d7e6-87e7da1c5111"
      },
      "source": [
        "np.sqrt(mean_squared_error(birth_test, birth_forecast))                # 6.86 which is better than the accuracy we have received first which was 9.77"
      ],
      "execution_count": 69,
      "outputs": [
        {
          "output_type": "execute_result",
          "data": {
            "text/plain": [
              "6.859975697276732"
            ]
          },
          "metadata": {
            "tags": []
          },
          "execution_count": 69
        }
      ]
    },
    {
      "cell_type": "code",
      "metadata": {
        "id": "b9dYcHgcSchs"
      },
      "source": [
        ""
      ],
      "execution_count": null,
      "outputs": []
    }
  ]
}